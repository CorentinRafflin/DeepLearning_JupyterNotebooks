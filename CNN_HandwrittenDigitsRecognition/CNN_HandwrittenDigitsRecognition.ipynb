{
  "nbformat": 4,
  "nbformat_minor": 0,
  "metadata": {
    "anaconda-cloud": {},
    "kernelspec": {
      "display_name": "Python 3",
      "language": "python",
      "name": "python3"
    },
    "language_info": {
      "codemirror_mode": {
        "name": "ipython",
        "version": 3
      },
      "file_extension": ".py",
      "mimetype": "text/x-python",
      "name": "python",
      "nbconvert_exporter": "python",
      "pygments_lexer": "ipython3",
      "version": "3.5.2"
    },
    "colab": {
      "name": "CNN_HandrwrittenDigitsRecognition.ipynb",
      "provenance": [],
      "toc_visible": true
    }
  },
  "cells": [
    {
      "cell_type": "markdown",
      "metadata": {
        "id": "rn-Cp6s-AYLg"
      },
      "source": [
        "<h1 style=\"text-align:center\">Deep Learning   </h1>\n",
        "<h1 style=\"text-align:center\"> Convolutional Neural Network (CNN) for Handwritten Digits Recognition</h1>"
      ]
    },
    {
      "cell_type": "markdown",
      "metadata": {
        "id": "iP8_IKh-AYLi"
      },
      "source": [
        "Corentin RAFFLIN"
      ]
    },
    {
      "cell_type": "markdown",
      "metadata": {
        "id": "ONO6r9FFAYLj"
      },
      "source": [
        "# Introduction"
      ]
    },
    {
      "cell_type": "markdown",
      "metadata": {
        "id": "gm57iBeLAYLk"
      },
      "source": [
        "In the last Lab Session, you built a Multilayer Perceptron for recognizing hand-written digits from the MNIST data-set. The best achieved accuracy on testing data was about 97%.  Can  you do better than these results using a deep CNN ?\n",
        "In this Lab Session, you will build, train and optimize in TensorFlow one of the early Convolutional Neural Networks,  **LeNet-5**, to go to  more than 99% of accuracy. \n",
        "\n",
        "\n",
        "\n",
        "\n"
      ]
    },
    {
      "cell_type": "markdown",
      "metadata": {
        "id": "RLfYk1PKAYLl"
      },
      "source": [
        "# Load MNIST Data in TensorFlow\n",
        "Run the cell below to load the MNIST data that comes with TensorFlow. You will use this data in **Section 1** and **Section 2**."
      ]
    },
    {
      "cell_type": "code",
      "metadata": {
        "id": "kIvEzL2vAYLl",
        "outputId": "0ce1638e-1aed-4ff2-e8e3-df03e16476a0"
      },
      "source": [
        "import tensorflow as tf\n",
        "import numpy as np\n",
        "import warnings\n",
        "from tensorflow.examples.tutorials.mnist import input_data\n",
        "from sklearn.utils import shuffle\n",
        "from time import time\n",
        "#Removing warnings \n",
        "warnings.simplefilter('ignore')\n",
        "\n",
        "mnist = input_data.read_data_sets(\"MNIST_data/\", one_hot=True)\n",
        "X_train, y_train           = mnist.train.images, mnist.train.labels\n",
        "X_validation, y_validation = mnist.validation.images, mnist.validation.labels\n",
        "X_test, y_test             = mnist.test.images, mnist.test.labels\n",
        "print(\"Image Shape: {}\".format(X_train[0].shape))\n",
        "print(\"Training Set:   {} samples\".format(len(X_train)))\n",
        "print(\"Validation Set: {} samples\".format(len(X_validation)))\n",
        "print(\"Test Set:       {} samples\".format(len(X_test)))\n",
        "\n",
        "epsilon = 1e-10 # this is a parameter you will use later"
      ],
      "execution_count": null,
      "outputs": [
        {
          "output_type": "stream",
          "text": [
            "Extracting MNIST_data/train-images-idx3-ubyte.gz\n",
            "Extracting MNIST_data/train-labels-idx1-ubyte.gz\n",
            "Extracting MNIST_data/t10k-images-idx3-ubyte.gz\n",
            "Extracting MNIST_data/t10k-labels-idx1-ubyte.gz\n",
            "Image Shape: (784,)\n",
            "Training Set:   55000 samples\n",
            "Validation Set: 5000 samples\n",
            "Test Set:       10000 samples\n"
          ],
          "name": "stdout"
        }
      ]
    },
    {
      "cell_type": "markdown",
      "metadata": {
        "id": "9xRac9MNAYLp"
      },
      "source": [
        "# Section 1 : My First Model in TensorFlow"
      ]
    },
    {
      "cell_type": "markdown",
      "metadata": {
        "id": "SX6JoH5cAYLs"
      },
      "source": [
        "Before starting with CNN, let's train and test in TensorFlow the example\n",
        "**y=softmax(Wx+b)** seen in the first lab. \n",
        "\n",
        "This model reaches an accuracy of about 92 %.\n",
        "You will also learn how to launch the TensorBoard https://www.tensorflow.org/get_started/summaries_and_tensorboard to visualize the computation graph, statistics and learning curves. "
      ]
    },
    {
      "cell_type": "markdown",
      "metadata": {
        "id": "luIn1j_vAYLt"
      },
      "source": [
        "<b> Part 1 </b> : Read carefully the code in the cell below. Run it to perform training. "
      ]
    },
    {
      "cell_type": "code",
      "metadata": {
        "id": "M_8rWYRfAYLt",
        "outputId": "8f53ed3c-54b3-4c69-c556-c29bf19f4f6a"
      },
      "source": [
        "#STEP 1\n",
        "\n",
        "# Parameters\n",
        "learning_rate = 0.01\n",
        "training_epochs = 40\n",
        "batch_size = 128\n",
        "display_step = 1\n",
        "logs_path = 'log_files/'  # useful for tensorboard\n",
        "\n",
        "# tf Graph Input:  mnist data image of shape 28*28=784\n",
        "x = tf.placeholder(tf.float32, [None, 784], name='InputData')\n",
        "# 0-9 digits recognition,  10 classes\n",
        "y = tf.placeholder(tf.float32, [None, 10], name='LabelData')\n",
        "\n",
        "# Set model weights\n",
        "W = tf.Variable(tf.zeros([784, 10]), name='Weights')\n",
        "b = tf.Variable(tf.zeros([10]), name='Bias')\n",
        "\n",
        "# Construct model and encapsulating all ops into scopes, making Tensorboard's Graph visualization more convenient\n",
        "with tf.name_scope('Model'):\n",
        "    # Model\n",
        "    pred = tf.nn.softmax(tf.matmul(x, W) + b) # Softmax\n",
        "with tf.name_scope('Loss'):\n",
        "    # Minimize error using cross entropy\n",
        "    # We use tf.clip_by_value to avoid having too low numbers in the log function\n",
        "    cost = tf.reduce_mean(-tf.reduce_sum(y*tf.log(tf.clip_by_value(pred, epsilon, 1.0)), reduction_indices=1))\n",
        "with tf.name_scope('SGD'):\n",
        "    # Gradient Descent\n",
        "    optimizer = tf.train.GradientDescentOptimizer(learning_rate).minimize(cost)\n",
        "with tf.name_scope('Accuracy'):\n",
        "    # Accuracy\n",
        "    acc = tf.equal(tf.argmax(pred, 1), tf.argmax(y, 1))\n",
        "    acc = tf.reduce_mean(tf.cast(acc, tf.float32))\n",
        "\n",
        "# Initializing the variables\n",
        "init = tf.global_variables_initializer()\n",
        "# Create a summary to monitor cost tensor\n",
        "tf.summary.scalar(\"Loss\", cost)\n",
        "# Create a summary to monitor accuracy tensor\n",
        "tf.summary.scalar(\"Accuracy\", acc)\n",
        "# Merge all summaries into a single op\n",
        "merged_summary_op = tf.summary.merge_all()\n",
        "\n",
        "#STEP 2 \n",
        "\n",
        "# Launch the graph for training\n",
        "with tf.Session() as sess:\n",
        "    sess.run(init)\n",
        "    # op to write logs to Tensorboard\n",
        "    summary_writer = tf.summary.FileWriter(logs_path, graph=tf.get_default_graph())\n",
        "    # Training cycle\n",
        "    for epoch in range(training_epochs):\n",
        "        avg_cost = 0.\n",
        "        total_batch = int(mnist.train.num_examples/batch_size)\n",
        "        # Loop over all batches\n",
        "        for i in range(total_batch):\n",
        "            batch_xs, batch_ys = mnist.train.next_batch(batch_size, shuffle=(i==0))\n",
        "            # Run optimization op (backprop), cost op (to get loss value)\n",
        "            # and summary nodes\n",
        "            _, c, summary = sess.run([optimizer, cost, merged_summary_op],\n",
        "                                     feed_dict={x: batch_xs, y: batch_ys})\n",
        "            # Write logs at every iteration\n",
        "            summary_writer.add_summary(summary, epoch * total_batch + i)\n",
        "            # Compute average loss\n",
        "            avg_cost += c / total_batch\n",
        "        # Display logs per epoch step\n",
        "        if (epoch+1) % display_step == 0:\n",
        "            print(\"Epoch: \", '%02d' % (epoch+1), \"  =====> Loss=\", \"{:.9f}\".format(avg_cost))\n",
        "\n",
        "    print(\"Optimization Finished!\")\n",
        "    summary_writer.flush()\n",
        "\n",
        "    # Test model\n",
        "    # Calculate accuracy\n",
        "    print(\"Accuracy:\", acc.eval({x: mnist.test.images, y: mnist.test.labels}))"
      ],
      "execution_count": null,
      "outputs": [
        {
          "output_type": "stream",
          "text": [
            "Epoch:  01   =====> Loss= 1.288586539\n",
            "Epoch:  02   =====> Loss= 0.732474971\n",
            "Epoch:  03   =====> Loss= 0.600285978\n",
            "Epoch:  04   =====> Loss= 0.536354847\n",
            "Epoch:  05   =====> Loss= 0.497779992\n",
            "Epoch:  06   =====> Loss= 0.471399856\n",
            "Epoch:  07   =====> Loss= 0.451380478\n",
            "Epoch:  08   =====> Loss= 0.435802482\n",
            "Epoch:  09   =====> Loss= 0.423480794\n",
            "Epoch:  10   =====> Loss= 0.413272987\n",
            "Epoch:  11   =====> Loss= 0.404111989\n",
            "Epoch:  12   =====> Loss= 0.396864860\n",
            "Epoch:  13   =====> Loss= 0.390325102\n",
            "Epoch:  14   =====> Loss= 0.384214350\n",
            "Epoch:  15   =====> Loss= 0.379292450\n",
            "Epoch:  16   =====> Loss= 0.374498579\n",
            "Epoch:  17   =====> Loss= 0.370195421\n",
            "Epoch:  18   =====> Loss= 0.366471430\n",
            "Epoch:  19   =====> Loss= 0.363161504\n",
            "Epoch:  20   =====> Loss= 0.359470057\n",
            "Epoch:  21   =====> Loss= 0.356625458\n",
            "Epoch:  22   =====> Loss= 0.353857386\n",
            "Epoch:  23   =====> Loss= 0.351068103\n",
            "Epoch:  24   =====> Loss= 0.348683886\n",
            "Epoch:  25   =====> Loss= 0.346556067\n",
            "Epoch:  26   =====> Loss= 0.344203966\n",
            "Epoch:  27   =====> Loss= 0.342275714\n",
            "Epoch:  28   =====> Loss= 0.340429829\n",
            "Epoch:  29   =====> Loss= 0.338404988\n",
            "Epoch:  30   =====> Loss= 0.336588143\n",
            "Epoch:  31   =====> Loss= 0.335070862\n",
            "Epoch:  32   =====> Loss= 0.333266099\n",
            "Epoch:  33   =====> Loss= 0.331748201\n",
            "Epoch:  34   =====> Loss= 0.330545522\n",
            "Epoch:  35   =====> Loss= 0.329071804\n",
            "Epoch:  36   =====> Loss= 0.327823580\n",
            "Epoch:  37   =====> Loss= 0.326598606\n",
            "Epoch:  38   =====> Loss= 0.325235325\n",
            "Epoch:  39   =====> Loss= 0.324201516\n",
            "Epoch:  40   =====> Loss= 0.322875760\n",
            "Optimization Finished!\n",
            "Accuracy: 0.916\n"
          ],
          "name": "stdout"
        }
      ]
    },
    {
      "cell_type": "markdown",
      "metadata": {
        "id": "gE3dzPFUAYLx"
      },
      "source": [
        "<b> Part 2  </b>: Using Tensorboard, we can  now visualize the created graph, giving you an overview of your architecture and how all of the major components  are connected. You can also see and analyse the learning curves. \n",
        "\n",
        "To launch tensorBoard: \n",
        "- Open a Terminal and run the command line **\"tensorboard --logdir=lab_2/log_files/\"**\n",
        "- Click on \"Tensorboard web interface\" in Zoe  \n",
        "\n",
        "\n",
        "Enjoy It !! \n"
      ]
    },
    {
      "cell_type": "markdown",
      "metadata": {
        "id": "JUtUwEPpAYLx"
      },
      "source": [
        "# Section 2 : The 99% MNIST Challenge !"
      ]
    },
    {
      "cell_type": "markdown",
      "metadata": {
        "id": "kgrWivNBAYLy"
      },
      "source": [
        "<b> Part 1 </b> : LeNet5 implementation"
      ]
    },
    {
      "cell_type": "markdown",
      "metadata": {
        "id": "es2gt1QlAYLz"
      },
      "source": [
        "You are now familar with **TensorFlow** and **TensorBoard**. In this section, you are to build, train and test the baseline [LeNet-5](http://yann.lecun.com/exdb/lenet/)  model for the MNIST digits recognition problem.  \n",
        "\n",
        "Then, you will make some optimizations to get more than 99% of accuracy.\n",
        "\n",
        "For more informations, have a look at this list of results: http://rodrigob.github.io/are_we_there_yet/build/classification_datasets_results.html"
      ]
    },
    {
      "cell_type": "markdown",
      "metadata": {
        "id": "xYg4kdbzAYLz"
      },
      "source": [
        "<img src=\"http://drive.google.com/uc?export=view&id=1iiFaRCkuXs-8ChilY5H6D-MEOh-X0_dp\" align=\"center\">\n",
        "\n",
        "\n",
        "\n",
        "\n",
        "\n",
        "The LeNet architecture takes a 28x28xC image as input, where C is the number of color channels. Since MNIST images are grayscale, C is 1 in this case.\n",
        "\n",
        "--------------------------\n",
        "**Layer 1 - Convolution (5x5):** The output shape should be 28x28x6. **Activation:** ReLU. **MaxPooling:** The output shape should be 14x14x6.\n",
        "\n",
        "**Layer 2 - Convolution (5x5):** The output shape should be 10x10x16. **Activation:** ReLU. **MaxPooling:** The output shape should be 5x5x16.\n",
        "\n",
        "**Flatten:** Flatten the output shape of the final pooling layer such that it's 1D instead of 3D.  You may need to use tf.reshape.\n",
        "\n",
        "**Layer 3 - Fully Connected:** This should have 120 outputs. **Activation:** ReLU.\n",
        "\n",
        "**Layer 4 - Fully Connected:** This should have 84 outputs. **Activation:** ReLU.\n",
        "\n",
        "**Layer 5 - Fully Connected:** This should have 10 outputs. **Activation:** softmax.\n"
      ]
    },
    {
      "cell_type": "markdown",
      "metadata": {
        "id": "HPCTynOIAYL0"
      },
      "source": [
        "<b> Question 2.1.1 </b>  Implement the Neural Network architecture described above.\n",
        "For that, your will use classes and functions from  https://www.tensorflow.org/api_docs/python/tf/nn. \n",
        "\n",
        "We give you some helper functions for weigths and bias initilization. Also you can refer to section 1. \n"
      ]
    },
    {
      "cell_type": "code",
      "metadata": {
        "id": "DUcmmMT1AYL0"
      },
      "source": [
        "# Functions for weigths and bias initilization \n",
        "def weight_variable(shape):\n",
        "  initial = tf.truncated_normal(shape, stddev=0.1)\n",
        "  return tf.Variable(initial)\n",
        "\n",
        "def bias_variable(shape):\n",
        "  initial = tf.constant(0., shape=shape)\n",
        "  return tf.Variable(initial)"
      ],
      "execution_count": null,
      "outputs": []
    },
    {
      "cell_type": "code",
      "metadata": {
        "id": "nJWFcxqIAYL3"
      },
      "source": [
        "def LeNet5_Model(image):    \n",
        "    '''image shape [batch, in_height, in_width, in_channels]'''\n",
        "    #Layer 1 : Convolution 5*5\n",
        "    weight1 = weight_variable([5, 5, 1, 6]) # shape [filter_height, filter_width, in_channels, out_channels]\n",
        "    bias1 = bias_variable([6]) # shape (out_channels)\n",
        "    conv1 = tf.nn.conv2d(image, weight1, strides=[1,1,1,1], padding='SAME') \n",
        "    act1 = tf.nn.relu(conv1 + bias1)\n",
        "    pool1 = tf.nn.max_pool(act1, ksize=[1,2,2,1], strides=[1,2,2,1], padding='VALID')\n",
        "    \n",
        "    #Layer 2 : Convolution 5*5\n",
        "    weight2 = weight_variable([5, 5, 6, 16]) \n",
        "    bias2 = bias_variable([16])\n",
        "    conv2 = tf.nn.conv2d(pool1, weight2, strides=[1,1,1,1], padding='VALID')\n",
        "    act2 = tf.nn.relu(conv2 + bias2)\n",
        "    pool2 = tf.nn.max_pool(act2, ksize=[1,2,2,1], strides=[1,2,2,1], padding='VALID')\n",
        "    \n",
        "    #Flatten layer\n",
        "    flatten = tf.reshape(pool2, [-1, 5*5*16])\n",
        "    \n",
        "    #Layer 3 : Fully Connected\n",
        "    weight3 = weight_variable([5*5*16, 120])\n",
        "    bias3 = bias_variable([120])\n",
        "    act3 = tf.nn.relu(tf.matmul(flatten, weight3) + bias3)\n",
        "\n",
        "    #Layer 4 : Fully Connected\n",
        "    weight4 = weight_variable([120, 84])\n",
        "    bias4 = bias_variable([84])\n",
        "    act4 = tf.nn.relu(tf.matmul(act3, weight4) + bias4)\n",
        "    \n",
        "    #Layer 5 : Fully Connected\n",
        "    weight5 = weight_variable([84, 10])\n",
        "    bias5 = bias_variable([10])\n",
        "    act5 = tf.nn.softmax(tf.matmul(act4, weight5) + bias5)\n",
        "    \n",
        "    return act5"
      ],
      "execution_count": null,
      "outputs": []
    },
    {
      "cell_type": "markdown",
      "metadata": {
        "id": "dDrlROe0AYL5"
      },
      "source": [
        "<b> Question 2.1.2. </b>  Calculate the number of parameters of this model "
      ]
    },
    {
      "cell_type": "code",
      "metadata": {
        "id": "txnQxqGOAYL6",
        "outputId": "54f1358d-121b-4d49-8c56-7a661429e5bc"
      },
      "source": [
        "param_layer1 = 5*5*1*6 + 6 #filter_height*filter_width*in_channels*out_channels + bias\n",
        "param_layer2 = 5*5*6*16 + 16\n",
        "param_layer3 = (5*5*16)*120 + 120 #input * output + bias\n",
        "param_layer4 = 120*84 + 84\n",
        "param_layer5 = 84*10 + 10\n",
        "\n",
        "param = param_layer1 + param_layer2 + param_layer3 + param_layer4 + param_layer5\n",
        "print(\"There are %d parameters in this model\" % param)"
      ],
      "execution_count": null,
      "outputs": [
        {
          "output_type": "stream",
          "text": [
            "There are 61706 parameters in this model\n"
          ],
          "name": "stdout"
        }
      ]
    },
    {
      "cell_type": "markdown",
      "metadata": {
        "id": "Ux562PJ2AYL8"
      },
      "source": [
        "<b> Question 2.1.3. </b>  Define your model, its accuracy and the loss function according to the following parameters (you can look at Section 1 to see what is expected):\n",
        "\n",
        "     Learning rate: 0.001\n",
        "     Loss Fucntion: Cross-entropy\n",
        "     Optimizer: tf.train.GradientDescentOptimizer\n",
        "     Number of epochs: 40\n",
        "     Batch size: 128"
      ]
    },
    {
      "cell_type": "code",
      "metadata": {
        "id": "isILhiLzAYL9"
      },
      "source": [
        "tf.reset_default_graph() # reset the default graph before defining a new model\n",
        "\n",
        "# Parameters\n",
        "learning_rate = 0.001\n",
        "training_epochs = 40\n",
        "batch_size = 128\n",
        "logs_path = 'log_files/'\n",
        "\n",
        "\n",
        "x = tf.placeholder(tf.float32, [None, 28, 28, 1], name='InputData')\n",
        "y = tf.placeholder(tf.float32, [None, 10], name='LabelData')\n",
        "#Reshaping\n",
        "X_train = X_train.reshape(-1, 28, 28, 1)\n",
        "X_validation = X_validation.reshape(-1, 28, 28, 1)\n",
        "X_test = X_test.reshape(-1, 28, 28, 1)\n",
        "\n",
        "#Model\n",
        "with tf.name_scope('Model'):\n",
        "    pred = LeNet5_Model(x)\n",
        "#Loss function\n",
        "with tf.name_scope('Loss'):\n",
        "    cost = tf.reduce_mean(-tf.reduce_sum(y*tf.log(tf.clip_by_value(pred, epsilon, 1.0)), reduction_indices=1))\n",
        "#Optimizer\n",
        "with tf.name_scope('SGD'):\n",
        "    optimizer = tf.train.GradientDescentOptimizer(learning_rate).minimize(cost)\n",
        "#Accuracy\n",
        "with tf.name_scope('Accuracy'):\n",
        "    acc = tf.equal(tf.argmax(pred, 1), tf.argmax(y, 1))\n",
        "    acc = tf.reduce_mean(tf.cast(acc, tf.float32))"
      ],
      "execution_count": null,
      "outputs": []
    },
    {
      "cell_type": "markdown",
      "metadata": {
        "id": "pqLs2utfAYL_"
      },
      "source": [
        "<b> Question 2.1.4. </b>  Implement the evaluation function for accuracy computation "
      ]
    },
    {
      "cell_type": "code",
      "metadata": {
        "id": "UATS3DvkAYL_"
      },
      "source": [
        "def evaluate(logits, labels):\n",
        "    # logits will be the outputs of your model, labels will be one-hot vectors corresponding to the actual labels\n",
        "    # logits and labels are numpy arrays\n",
        "    # this function should return the accuracy of your model\n",
        "    acc = tf.equal(tf.argmax(logits, 1), tf.argmax(labels, 1))\n",
        "    acc = tf.reduce_mean(tf.cast(acc, tf.float32))\n",
        "    return acc"
      ],
      "execution_count": null,
      "outputs": []
    },
    {
      "cell_type": "markdown",
      "metadata": {
        "id": "UeP3ojESAYMC"
      },
      "source": [
        "<b> Question 2.1.5. </b>  Implement training pipeline and run the training data through it to train the model.\n",
        "\n",
        "- Before each epoch, shuffle the training set. \n",
        "- Print the loss per mini batch and the training/validation accuracy per epoch. (Display results every 100 epochs)\n",
        "- Save the model after training\n",
        "- Print after training the final testing accuracy \n",
        "\n"
      ]
    },
    {
      "cell_type": "code",
      "metadata": {
        "id": "WAKNr6WWAYMC"
      },
      "source": [
        "# Initializing the variables\n",
        "init = tf.global_variables_initializer()\n",
        "# Create a summary to monitor cost tensor\n",
        "tf.summary.scalar(\"Loss_LeNet-5_SGD\", cost)\n",
        "# Create a summary to monitor accuracy tensor\n",
        "tf.summary.scalar(\"Accuracy_LeNet-5_SGD\", acc)\n",
        "# Merge all summaries into a single op\n",
        "merged_summary_op = tf.summary.merge_all()"
      ],
      "execution_count": null,
      "outputs": []
    },
    {
      "cell_type": "code",
      "metadata": {
        "id": "fdb0N42IAYMF"
      },
      "source": [
        "def train(init, sess, logs_path, n_epochs, batch_size, optimizer, cost, merged_summary_op):\n",
        "    # optimizer and cost are the same kinds of objects as in Section 1\n",
        "    # Train your model\n",
        "    global X_train, y_train, X_validation, y_validation, X_test, y_test    \n",
        "    \n",
        "    sess.run(init)\n",
        "    \n",
        "    # op to write logs to Tensorboard\n",
        "    summary_writer = tf.summary.FileWriter(logs_path, graph=tf.get_default_graph())\n",
        "    \n",
        "    #Initialize saver\n",
        "    saver = tf.train.Saver()\n",
        "        \n",
        "    total_batch = int(X_train.shape[0]/batch_size)\n",
        "    \n",
        "    start_time = time()\n",
        "    # Training cycle\n",
        "    for epoch in range(n_epochs):\n",
        "        avg_cost = 0.\n",
        "        \n",
        "        # Shuffling the data before each epoch\n",
        "        X_train, y_train = shuffle(X_train, y_train)      \n",
        "        \n",
        "        # Loop over all batches\n",
        "        for i in range(total_batch):\n",
        "            #Take new batch\n",
        "            batch_xs, batch_ys = X_train[batch_size*i:batch_size*(i+1)], y_train[batch_size*i:batch_size*(i+1)]\n",
        "            \n",
        "            # Run optimization op (backprop), cost op (to get loss value)\n",
        "            # and summary nodes\n",
        "            _, c, summary = sess.run([optimizer, cost, merged_summary_op],\n",
        "                                     feed_dict={x: batch_xs, y: batch_ys})\n",
        "            # Write logs at every iteration\n",
        "            summary_writer.add_summary(summary, epoch * total_batch + i)\n",
        "            # Compute average loss\n",
        "            avg_cost += c / total_batch\n",
        "\n",
        "        #Compute accuracy \n",
        "        val_acc = acc.eval({x: X_validation, y: y_validation})\n",
        "        test_acc = acc.eval({x: X_test, y: y_test})\n",
        "        \n",
        "        # Display logs per epoch \n",
        "        if (epoch+1) % 1 == 0:\n",
        "            print(\"Epoch: \", '%02d' % (epoch+1), \"  =====> Loss=\", \"{:.9f}\".format(avg_cost), \n",
        "                  \" ====> Testing accuracy =\", \"{:.9f}\".format(test_acc),\n",
        "                  \" ====> Validation accuracy =\", \"{:.9f}\".format(val_acc), )\n",
        "    \n",
        "    print(\"Training time :\", time() - start_time)\n",
        "    #Save model after training\n",
        "    save_path = saver.save(sess, logs_path + 'model' + '_' + optimizer.name)\n",
        "    print(\"Model saved in path: %s\" % save_path)\n",
        "    \n",
        "    summary_writer.flush()\n",
        "\n",
        "    # Test model\n",
        "    # Calculate accuracy\n",
        "    print(\"Final testing accuracy:\", acc.eval({x: X_test, y: y_test}))"
      ],
      "execution_count": null,
      "outputs": []
    },
    {
      "cell_type": "code",
      "metadata": {
        "id": "V3phI0MuAYMH",
        "outputId": "99471a62-01e2-4b5d-d633-c6b9b2c6c881"
      },
      "source": [
        "with tf.Session() as sess:\n",
        "    train(init, sess, logs_path, training_epochs, batch_size, optimizer, cost, merged_summary_op)"
      ],
      "execution_count": null,
      "outputs": [
        {
          "output_type": "stream",
          "text": [
            "Epoch:  01   =====> Loss= 2.298148755  ====> Testing accuracy = 0.149900004  ====> Validation accuracy = 0.158800006\n",
            "Epoch:  02   =====> Loss= 2.278185468  ====> Testing accuracy = 0.224199995  ====> Validation accuracy = 0.239800006\n",
            "Epoch:  03   =====> Loss= 2.248713539  ====> Testing accuracy = 0.307399988  ====> Validation accuracy = 0.324999988\n",
            "Epoch:  04   =====> Loss= 2.194495717  ====> Testing accuracy = 0.375499994  ====> Validation accuracy = 0.386200011\n",
            "Epoch:  05   =====> Loss= 2.074979356  ====> Testing accuracy = 0.488999993  ====> Validation accuracy = 0.507000029\n",
            "Epoch:  06   =====> Loss= 1.778755422  ====> Testing accuracy = 0.669300020  ====> Validation accuracy = 0.683200002\n",
            "Epoch:  07   =====> Loss= 1.244942585  ====> Testing accuracy = 0.801699996  ====> Validation accuracy = 0.790400028\n",
            "Epoch:  08   =====> Loss= 0.803754446  ====> Testing accuracy = 0.847400010  ====> Validation accuracy = 0.835200012\n",
            "Epoch:  09   =====> Loss= 0.594938605  ====> Testing accuracy = 0.869899988  ====> Validation accuracy = 0.860400021\n",
            "Epoch:  10   =====> Loss= 0.494891864  ====> Testing accuracy = 0.887700021  ====> Validation accuracy = 0.878400028\n",
            "Epoch:  11   =====> Loss= 0.435313439  ====> Testing accuracy = 0.897000015  ====> Validation accuracy = 0.890799999\n",
            "Epoch:  12   =====> Loss= 0.394286241  ====> Testing accuracy = 0.901600003  ====> Validation accuracy = 0.898599982\n",
            "Epoch:  13   =====> Loss= 0.363556993  ====> Testing accuracy = 0.910600007  ====> Validation accuracy = 0.909399986\n",
            "Epoch:  14   =====> Loss= 0.338756653  ====> Testing accuracy = 0.914699972  ====> Validation accuracy = 0.914200008\n",
            "Epoch:  15   =====> Loss= 0.319165956  ====> Testing accuracy = 0.919900000  ====> Validation accuracy = 0.916000009\n",
            "Epoch:  16   =====> Loss= 0.302629984  ====> Testing accuracy = 0.925300002  ====> Validation accuracy = 0.922399998\n",
            "Epoch:  17   =====> Loss= 0.288350765  ====> Testing accuracy = 0.928399980  ====> Validation accuracy = 0.925400019\n",
            "Epoch:  18   =====> Loss= 0.276248129  ====> Testing accuracy = 0.931100011  ====> Validation accuracy = 0.928399980\n",
            "Epoch:  19   =====> Loss= 0.265580019  ====> Testing accuracy = 0.932500005  ====> Validation accuracy = 0.928399980\n",
            "Epoch:  20   =====> Loss= 0.255937709  ====> Testing accuracy = 0.935800016  ====> Validation accuracy = 0.933399975\n",
            "Epoch:  21   =====> Loss= 0.247342657  ====> Testing accuracy = 0.935999990  ====> Validation accuracy = 0.935000002\n",
            "Epoch:  22   =====> Loss= 0.239377569  ====> Testing accuracy = 0.937200010  ====> Validation accuracy = 0.936200023\n",
            "Epoch:  23   =====> Loss= 0.232008204  ====> Testing accuracy = 0.938799977  ====> Validation accuracy = 0.939800024\n",
            "Epoch:  24   =====> Loss= 0.224953218  ====> Testing accuracy = 0.941299975  ====> Validation accuracy = 0.939999998\n",
            "Epoch:  25   =====> Loss= 0.218485423  ====> Testing accuracy = 0.942399979  ====> Validation accuracy = 0.942399979\n",
            "Epoch:  26   =====> Loss= 0.212667487  ====> Testing accuracy = 0.944400012  ====> Validation accuracy = 0.944199979\n",
            "Epoch:  27   =====> Loss= 0.207095804  ====> Testing accuracy = 0.944500029  ====> Validation accuracy = 0.944999993\n",
            "Epoch:  28   =====> Loss= 0.202158899  ====> Testing accuracy = 0.947700024  ====> Validation accuracy = 0.948000014\n",
            "Epoch:  29   =====> Loss= 0.197288068  ====> Testing accuracy = 0.948000014  ====> Validation accuracy = 0.946799994\n",
            "Epoch:  30   =====> Loss= 0.192791463  ====> Testing accuracy = 0.950399995  ====> Validation accuracy = 0.950399995\n",
            "Epoch:  31   =====> Loss= 0.188420314  ====> Testing accuracy = 0.950800002  ====> Validation accuracy = 0.950800002\n",
            "Epoch:  32   =====> Loss= 0.184444467  ====> Testing accuracy = 0.952799976  ====> Validation accuracy = 0.951799989\n",
            "Epoch:  33   =====> Loss= 0.180556170  ====> Testing accuracy = 0.953999996  ====> Validation accuracy = 0.952600002\n",
            "Epoch:  34   =====> Loss= 0.176957561  ====> Testing accuracy = 0.954299986  ====> Validation accuracy = 0.955200016\n",
            "Epoch:  35   =====> Loss= 0.173188459  ====> Testing accuracy = 0.953899980  ====> Validation accuracy = 0.954800010\n",
            "Epoch:  36   =====> Loss= 0.169962596  ====> Testing accuracy = 0.954800010  ====> Validation accuracy = 0.957199991\n",
            "Epoch:  37   =====> Loss= 0.166648968  ====> Testing accuracy = 0.956499994  ====> Validation accuracy = 0.956799984\n",
            "Epoch:  38   =====> Loss= 0.163419584  ====> Testing accuracy = 0.956900001  ====> Validation accuracy = 0.957799971\n",
            "Epoch:  39   =====> Loss= 0.160550396  ====> Testing accuracy = 0.957799971  ====> Validation accuracy = 0.957799971\n",
            "Epoch:  40   =====> Loss= 0.157792618  ====> Testing accuracy = 0.958700001  ====> Validation accuracy = 0.959200025\n",
            "Training time : 711.790855884552\n",
            "Model saved in path: log_files/model_SGD/GradientDescent\n",
            "Final testing accuracy: 0.9587\n"
          ],
          "name": "stdout"
        }
      ]
    },
    {
      "cell_type": "markdown",
      "metadata": {
        "id": "4Ljmi2FEAYMK"
      },
      "source": [
        "<b> Question 2.1.6 </b> : Use TensorBoard to visualise and save loss and accuracy curves. \n",
        "You will save figures in the folder **\"lab_2/MNIST_figures\"** and display them in your notebook."
      ]
    },
    {
      "cell_type": "markdown",
      "metadata": {
        "id": "V6FaGT0aAYMK"
      },
      "source": [
        "![](http://drive.google.com/uc?export=view&id=17SaPTPZnPCmXQ0QTqyvGbqj6GeMkFGCz)\n",
        "\n",
        "![](http://drive.google.com/uc?export=view&id=1QsY0PZSQsMGbYekTs9CHZ5cZJ0mX4DEY)"
      ]
    },
    {
      "cell_type": "markdown",
      "metadata": {
        "id": "B5oxYeFeAYML"
      },
      "source": [
        "<b> Part 2 </b> : LeNET 5 Optimization"
      ]
    },
    {
      "cell_type": "markdown",
      "metadata": {
        "id": "LbQRzS0MAYML"
      },
      "source": [
        "\n",
        "<b> Question 2.2.1 </b>\n",
        "\n",
        "- Retrain your network with AdamOptimizer and then fill the table above:\n",
        "\n",
        "\n",
        "| Optimizer            |  Gradient Descent  |    AdamOptimizer    |\n",
        "|----------------------|--------------------|---------------------|\n",
        "| Testing Accuracy     |         0.9587     |        0.9914       |       \n",
        "| Training Time        |         712s       |        710s         |  \n",
        "\n",
        "- Which optimizer gives the best accuracy on test data?\n",
        "\n",
        "**Your answer:** The Adam optimizer gives a better accuracy on test data (0.9914 vs 0.9587 with Gradient Descent) for similar parameters. We also notice that the training time is quite the same with the two optimizers. We also notice that the model with Adam optimizer converges way faster. Indeed in a single epoch we obtain a loss of about 0.34, whereas we obtained a similar loss only after 14 epochs with Gradient Descent. Similarly in a single epoch the testing accuracy is already better than the one after 40 epochs with Gradient Descent.\n"
      ]
    },
    {
      "cell_type": "code",
      "metadata": {
        "id": "Ps-PvGqtAYMM"
      },
      "source": [
        "##Same as before, just changing the optimizer\n",
        "\n",
        "tf.reset_default_graph()\n",
        "\n",
        "x = tf.placeholder(tf.float32, [None, 28, 28, 1], name='InputData')\n",
        "y = tf.placeholder(tf.float32, [None, 10], name='LabelData')\n",
        "\n",
        "#Model\n",
        "with tf.name_scope('Model'):\n",
        "    pred = LeNet5_Model(x)\n",
        "#Loss function\n",
        "with tf.name_scope('Loss'):\n",
        "    cost = tf.reduce_mean(-tf.reduce_sum(y*tf.log(tf.clip_by_value(pred, epsilon, 1.0)), reduction_indices=1))\n",
        "#Optimizer\n",
        "with tf.name_scope('Adam'):\n",
        "    optimizer = tf.train.AdamOptimizer(learning_rate).minimize(cost)\n",
        "#Accuracy\n",
        "with tf.name_scope('Accuracy'):\n",
        "    acc = evaluate(pred, y)\n",
        "\n",
        "# Initializing the variables\n",
        "init = tf.global_variables_initializer()\n",
        "# Create a summary to monitor cost tensor\n",
        "tf.summary.scalar(\"Loss_LeNet-5_Adam\", cost)\n",
        "# Create a summary to monitor accuracy tensor\n",
        "tf.summary.scalar(\"Accuracy_LeNet-5_Adam\", acc)\n",
        "# Merge all summaries into a single op\n",
        "merged_summary_op = tf.summary.merge_all()"
      ],
      "execution_count": null,
      "outputs": []
    },
    {
      "cell_type": "code",
      "metadata": {
        "id": "QOCuZY0kAYMO",
        "outputId": "072285f2-290d-4994-aed9-b325009a1680"
      },
      "source": [
        "with tf.Session() as sess:\n",
        "    train(init, sess, logs_path, training_epochs, batch_size, optimizer, cost, merged_summary_op)"
      ],
      "execution_count": null,
      "outputs": [
        {
          "output_type": "stream",
          "text": [
            "Epoch:  01   =====> Loss= 0.337192377  ====> Testing accuracy = 0.971199989  ====> Validation accuracy = 0.971400023\n",
            "Epoch:  02   =====> Loss= 0.093284122  ====> Testing accuracy = 0.975899994  ====> Validation accuracy = 0.973999977\n",
            "Epoch:  03   =====> Loss= 0.069581516  ====> Testing accuracy = 0.982100010  ====> Validation accuracy = 0.983200014\n",
            "Epoch:  04   =====> Loss= 0.056758887  ====> Testing accuracy = 0.987299979  ====> Validation accuracy = 0.985199988\n",
            "Epoch:  05   =====> Loss= 0.044753444  ====> Testing accuracy = 0.987500012  ====> Validation accuracy = 0.987200022\n",
            "Epoch:  06   =====> Loss= 0.036672540  ====> Testing accuracy = 0.988099992  ====> Validation accuracy = 0.987999976\n",
            "Epoch:  07   =====> Loss= 0.033269419  ====> Testing accuracy = 0.990499973  ====> Validation accuracy = 0.986999989\n",
            "Epoch:  08   =====> Loss= 0.029368611  ====> Testing accuracy = 0.988200009  ====> Validation accuracy = 0.988600016\n",
            "Epoch:  09   =====> Loss= 0.024178660  ====> Testing accuracy = 0.987699986  ====> Validation accuracy = 0.986999989\n",
            "Epoch:  10   =====> Loss= 0.022274069  ====> Testing accuracy = 0.989199996  ====> Validation accuracy = 0.988600016\n",
            "Epoch:  11   =====> Loss= 0.018577916  ====> Testing accuracy = 0.990400016  ====> Validation accuracy = 0.989000022\n",
            "Epoch:  12   =====> Loss= 0.015998311  ====> Testing accuracy = 0.989099979  ====> Validation accuracy = 0.985800028\n",
            "Epoch:  13   =====> Loss= 0.015998260  ====> Testing accuracy = 0.990599990  ====> Validation accuracy = 0.990400016\n",
            "Epoch:  14   =====> Loss= 0.014665965  ====> Testing accuracy = 0.991400003  ====> Validation accuracy = 0.988600016\n",
            "Epoch:  15   =====> Loss= 0.011703846  ====> Testing accuracy = 0.988699973  ====> Validation accuracy = 0.990199983\n",
            "Epoch:  16   =====> Loss= 0.011374031  ====> Testing accuracy = 0.987399995  ====> Validation accuracy = 0.986400008\n",
            "Epoch:  17   =====> Loss= 0.011589384  ====> Testing accuracy = 0.989300013  ====> Validation accuracy = 0.988200009\n",
            "Epoch:  18   =====> Loss= 0.008555054  ====> Testing accuracy = 0.989799976  ====> Validation accuracy = 0.988399982\n",
            "Epoch:  19   =====> Loss= 0.010774759  ====> Testing accuracy = 0.989499986  ====> Validation accuracy = 0.987399995\n",
            "Epoch:  20   =====> Loss= 0.006664998  ====> Testing accuracy = 0.989899993  ====> Validation accuracy = 0.989799976\n",
            "Epoch:  21   =====> Loss= 0.008171073  ====> Testing accuracy = 0.989799976  ====> Validation accuracy = 0.989199996\n",
            "Epoch:  22   =====> Loss= 0.010182011  ====> Testing accuracy = 0.987299979  ====> Validation accuracy = 0.986400008\n",
            "Epoch:  23   =====> Loss= 0.006053188  ====> Testing accuracy = 0.990800023  ====> Validation accuracy = 0.988600016\n",
            "Epoch:  24   =====> Loss= 0.005813461  ====> Testing accuracy = 0.990800023  ====> Validation accuracy = 0.988799989\n",
            "Epoch:  25   =====> Loss= 0.004524751  ====> Testing accuracy = 0.991100013  ====> Validation accuracy = 0.988799989\n",
            "Epoch:  26   =====> Loss= 0.004561770  ====> Testing accuracy = 0.987699986  ====> Validation accuracy = 0.986000001\n",
            "Epoch:  27   =====> Loss= 0.010814430  ====> Testing accuracy = 0.987800002  ====> Validation accuracy = 0.988200009\n",
            "Epoch:  28   =====> Loss= 0.003521892  ====> Testing accuracy = 0.990499973  ====> Validation accuracy = 0.990999997\n",
            "Epoch:  29   =====> Loss= 0.004938369  ====> Testing accuracy = 0.990100026  ====> Validation accuracy = 0.991999984\n",
            "Epoch:  30   =====> Loss= 0.004605746  ====> Testing accuracy = 0.989700019  ====> Validation accuracy = 0.988799989\n",
            "Epoch:  31   =====> Loss= 0.007255645  ====> Testing accuracy = 0.988900006  ====> Validation accuracy = 0.989600003\n",
            "Epoch:  32   =====> Loss= 0.004653554  ====> Testing accuracy = 0.988499999  ====> Validation accuracy = 0.989000022\n",
            "Epoch:  33   =====> Loss= 0.005368224  ====> Testing accuracy = 0.990599990  ====> Validation accuracy = 0.988799989\n",
            "Epoch:  34   =====> Loss= 0.002434701  ====> Testing accuracy = 0.991599977  ====> Validation accuracy = 0.990400016\n",
            "Epoch:  35   =====> Loss= 0.004841189  ====> Testing accuracy = 0.988799989  ====> Validation accuracy = 0.987200022\n",
            "Epoch:  36   =====> Loss= 0.005518572  ====> Testing accuracy = 0.991299987  ====> Validation accuracy = 0.986999989\n",
            "Epoch:  37   =====> Loss= 0.005487071  ====> Testing accuracy = 0.990800023  ====> Validation accuracy = 0.987999976\n",
            "Epoch:  38   =====> Loss= 0.002733897  ====> Testing accuracy = 0.987500012  ====> Validation accuracy = 0.986599982\n",
            "Epoch:  39   =====> Loss= 0.004490448  ====> Testing accuracy = 0.988900006  ====> Validation accuracy = 0.990199983\n",
            "Epoch:  40   =====> Loss= 0.005449366  ====> Testing accuracy = 0.991400003  ====> Validation accuracy = 0.991400003\n",
            "Training time : 709.6574301719666\n",
            "Model saved in path: log_files/model_Adam/Adam\n",
            "Final testing accuracy: 0.9914\n"
          ],
          "name": "stdout"
        }
      ]
    },
    {
      "cell_type": "markdown",
      "metadata": {
        "id": "kgVnMNnMAYMR"
      },
      "source": [
        "<b> Question 2.2.2</b> Try to add dropout (keep_prob = 0.75) before the first fully connected layer. You will use tf.nn.dropout for that purpose. What accuracy do you achieve on testing data?\n",
        "\n",
        "**Accuracy achieved on testing data:** With the Adam optimizer (best of the two tested), we obtain an accuracy of 0.9877 on testing data. The dropout did not improve the model, the accuracy is slightly worse (0.9877 vs 0.9914). Even the training time is similar to the one without dropout. The training does not converge faster as we could expected, but as it already converged really fast without dropout it would be difficult to realize that in this model."
      ]
    },
    {
      "cell_type": "code",
      "metadata": {
        "id": "5dBQAQQuAYMR"
      },
      "source": [
        "def LeNet5_Model_Dropout(image):\n",
        "    keep_prob = 0.75\n",
        "    \n",
        "    #Layer 1 : Convolution 5*5\n",
        "    weight1 = weight_variable([5, 5, 1, 6]) # shape [filter_height, filter_width, in_channels, out_channels]\n",
        "    bias1 = bias_variable([6]) # shape (out_channels)\n",
        "    conv1 = tf.nn.conv2d(image, weight1, strides=[1,1,1,1], padding='SAME') \n",
        "    act1 = tf.nn.relu(conv1 + bias1)\n",
        "    pool1 = tf.nn.max_pool(act1, ksize=[1,2,2,1], strides=[1,2,2,1], padding='VALID')\n",
        "    \n",
        "    #Layer 2 : Convolution 5*5\n",
        "    weight2 = weight_variable([5, 5, 6, 16]) # shape [filter_height, filter_width, in_channels, out_channels]\n",
        "    bias2 = bias_variable([16]) # shape (depth_image_out)\n",
        "    conv2 = tf.nn.conv2d(pool1, weight2, strides=[1,1,1,1], padding='VALID')\n",
        "    act2 = tf.nn.relu(conv2 + bias2)\n",
        "    pool2 = tf.nn.max_pool(act2, ksize=[1,2,2,1], strides=[1,2,2,1], padding='VALID')\n",
        "    \n",
        "    #Flatten layer\n",
        "    flatten = tf.reshape(pool2, [-1, 5*5*16])\n",
        "    drop = tf.nn.dropout(flatten, keep_prob)\n",
        "    \n",
        "    #Layer 3 : Fully Connected\n",
        "    weight3 = weight_variable([5*5*16, 120])\n",
        "    bias3 = bias_variable([120])\n",
        "    act3 = tf.nn.relu(tf.matmul(drop, weight3) + bias3)\n",
        "\n",
        "    #Layer 4 : Fully Connected\n",
        "    weight4 = weight_variable([120, 84])\n",
        "    bias4 = bias_variable([84])\n",
        "    act4 = tf.nn.relu(tf.matmul(act3, weight4) + bias4)\n",
        "    \n",
        "    #Layer 5 : Fully Connected\n",
        "    weight5 = weight_variable([84, 10])\n",
        "    bias5 = bias_variable([10])\n",
        "    act5 = tf.nn.softmax(tf.matmul(act4, weight5) + bias5)\n",
        "    \n",
        "    return act5"
      ],
      "execution_count": null,
      "outputs": []
    },
    {
      "cell_type": "code",
      "metadata": {
        "id": "otFKq5odAYMU"
      },
      "source": [
        "tf.reset_default_graph() \n",
        "\n",
        "x = tf.placeholder(tf.float32, [None, 28, 28, 1], name='InputData')\n",
        "y = tf.placeholder(tf.float32, [None, 10], name='LabelData')\n",
        "\n",
        "#Model\n",
        "with tf.name_scope('Model'):\n",
        "    pred = LeNet5_Model_Dropout(x)\n",
        "#Loss function\n",
        "with tf.name_scope('Loss'):\n",
        "    cost = tf.reduce_mean(-tf.reduce_sum(y*tf.log(tf.clip_by_value(pred, epsilon, 1.0)), reduction_indices=1))\n",
        "#Optimizer\n",
        "with tf.name_scope('Adam'):\n",
        "    optimizer = tf.train.AdamOptimizer(learning_rate).minimize(cost)\n",
        "#Accuracy\n",
        "with tf.name_scope('Accuracy'):\n",
        "    acc = evaluate(pred, y)\n",
        "    \n",
        "# Initializing the variables\n",
        "init = tf.global_variables_initializer()\n",
        "# Create a summary to monitor cost tensor\n",
        "tf.summary.scalar(\"Loss_LeNet-5_Adam\", cost)\n",
        "# Create a summary to monitor accuracy tensor\n",
        "tf.summary.scalar(\"Accuracy_LeNet-5_Adam\", acc)\n",
        "# Merge all summaries into a single op\n",
        "merged_summary_op = tf.summary.merge_all()"
      ],
      "execution_count": null,
      "outputs": []
    },
    {
      "cell_type": "code",
      "metadata": {
        "id": "fA5asWtzAYMW",
        "outputId": "14845cb9-d621-44f7-fe31-fd7e861e272e"
      },
      "source": [
        "with tf.Session() as sess:\n",
        "    train(init, sess, logs_path, training_epochs, batch_size, optimizer, cost, merged_summary_op)"
      ],
      "execution_count": null,
      "outputs": [
        {
          "output_type": "stream",
          "text": [
            "Epoch:  01   =====> Loss= 0.374580437  ====> Testing accuracy = 0.962800026  ====> Validation accuracy = 0.958400011\n",
            "Epoch:  02   =====> Loss= 0.105710727  ====> Testing accuracy = 0.976199985  ====> Validation accuracy = 0.977400005\n",
            "Epoch:  03   =====> Loss= 0.078360710  ====> Testing accuracy = 0.980300009  ====> Validation accuracy = 0.980599999\n",
            "Epoch:  04   =====> Loss= 0.062998356  ====> Testing accuracy = 0.981500030  ====> Validation accuracy = 0.981400013\n",
            "Epoch:  05   =====> Loss= 0.053353163  ====> Testing accuracy = 0.984899998  ====> Validation accuracy = 0.984399974\n",
            "Epoch:  06   =====> Loss= 0.048859623  ====> Testing accuracy = 0.984399974  ====> Validation accuracy = 0.980599999\n",
            "Epoch:  07   =====> Loss= 0.043629460  ====> Testing accuracy = 0.986199975  ====> Validation accuracy = 0.986400008\n",
            "Epoch:  08   =====> Loss= 0.040206590  ====> Testing accuracy = 0.984600008  ====> Validation accuracy = 0.981199980\n",
            "Epoch:  09   =====> Loss= 0.035232335  ====> Testing accuracy = 0.986400008  ====> Validation accuracy = 0.985400021\n",
            "Epoch:  10   =====> Loss= 0.031702766  ====> Testing accuracy = 0.985800028  ====> Validation accuracy = 0.986599982\n",
            "Epoch:  11   =====> Loss= 0.032478882  ====> Testing accuracy = 0.984899998  ====> Validation accuracy = 0.982800007\n",
            "Epoch:  12   =====> Loss= 0.028045211  ====> Testing accuracy = 0.987100005  ====> Validation accuracy = 0.986199975\n",
            "Epoch:  13   =====> Loss= 0.025580297  ====> Testing accuracy = 0.988200009  ====> Validation accuracy = 0.987600029\n",
            "Epoch:  14   =====> Loss= 0.025265909  ====> Testing accuracy = 0.989000022  ====> Validation accuracy = 0.990199983\n",
            "Epoch:  15   =====> Loss= 0.025295069  ====> Testing accuracy = 0.988099992  ====> Validation accuracy = 0.986000001\n",
            "Epoch:  16   =====> Loss= 0.021733447  ====> Testing accuracy = 0.986699998  ====> Validation accuracy = 0.986400008\n",
            "Epoch:  17   =====> Loss= 0.021563134  ====> Testing accuracy = 0.985800028  ====> Validation accuracy = 0.987200022\n",
            "Epoch:  18   =====> Loss= 0.020839919  ====> Testing accuracy = 0.987500012  ====> Validation accuracy = 0.987800002\n",
            "Epoch:  19   =====> Loss= 0.018534759  ====> Testing accuracy = 0.988799989  ====> Validation accuracy = 0.989000022\n",
            "Epoch:  20   =====> Loss= 0.017443275  ====> Testing accuracy = 0.985800028  ====> Validation accuracy = 0.987800002\n",
            "Epoch:  21   =====> Loss= 0.018232929  ====> Testing accuracy = 0.988799989  ====> Validation accuracy = 0.988200009\n",
            "Epoch:  22   =====> Loss= 0.015170505  ====> Testing accuracy = 0.986699998  ====> Validation accuracy = 0.987800002\n",
            "Epoch:  23   =====> Loss= 0.017768484  ====> Testing accuracy = 0.988399982  ====> Validation accuracy = 0.989400029\n",
            "Epoch:  24   =====> Loss= 0.016556849  ====> Testing accuracy = 0.987900019  ====> Validation accuracy = 0.988399982\n",
            "Epoch:  25   =====> Loss= 0.015419104  ====> Testing accuracy = 0.987900019  ====> Validation accuracy = 0.988799989\n",
            "Epoch:  26   =====> Loss= 0.014873846  ====> Testing accuracy = 0.988799989  ====> Validation accuracy = 0.988399982\n",
            "Epoch:  27   =====> Loss= 0.014391605  ====> Testing accuracy = 0.987900019  ====> Validation accuracy = 0.988399982\n",
            "Epoch:  28   =====> Loss= 0.013937918  ====> Testing accuracy = 0.987200022  ====> Validation accuracy = 0.988799989\n",
            "Epoch:  29   =====> Loss= 0.013180870  ====> Testing accuracy = 0.988600016  ====> Validation accuracy = 0.988799989\n",
            "Epoch:  30   =====> Loss= 0.012467145  ====> Testing accuracy = 0.986599982  ====> Validation accuracy = 0.989000022\n",
            "Epoch:  31   =====> Loss= 0.012077014  ====> Testing accuracy = 0.987999976  ====> Validation accuracy = 0.989400029\n",
            "Epoch:  32   =====> Loss= 0.012803988  ====> Testing accuracy = 0.988200009  ====> Validation accuracy = 0.987999976\n",
            "Epoch:  33   =====> Loss= 0.011257896  ====> Testing accuracy = 0.987500012  ====> Validation accuracy = 0.988399982\n",
            "Epoch:  34   =====> Loss= 0.012967548  ====> Testing accuracy = 0.988099992  ====> Validation accuracy = 0.990199983\n",
            "Epoch:  35   =====> Loss= 0.011118847  ====> Testing accuracy = 0.987399995  ====> Validation accuracy = 0.988600016\n",
            "Epoch:  36   =====> Loss= 0.010818945  ====> Testing accuracy = 0.987699986  ====> Validation accuracy = 0.990999997\n",
            "Epoch:  37   =====> Loss= 0.010403670  ====> Testing accuracy = 0.987900019  ====> Validation accuracy = 0.989799976\n",
            "Epoch:  38   =====> Loss= 0.009915944  ====> Testing accuracy = 0.989000022  ====> Validation accuracy = 0.989000022\n",
            "Epoch:  39   =====> Loss= 0.010704457  ====> Testing accuracy = 0.988300025  ====> Validation accuracy = 0.989199996\n",
            "Epoch:  40   =====> Loss= 0.010647823  ====> Testing accuracy = 0.987200022  ====> Validation accuracy = 0.987600029\n",
            "Training time : 715.9265096187592\n",
            "Model saved in path: log_files/model_Adam/Adam\n",
            "Final testing accuracy: 0.9877\n"
          ],
          "name": "stdout"
        }
      ]
    },
    {
      "cell_type": "markdown",
      "metadata": {
        "id": "pKbRXmW1AYMY"
      },
      "source": [
        "All in all, CNN allows us to reach an accuracy of 99% (0.9914 with Adam optimizer and without dropout in 40 epochs) where MLP gave us an accuracy of about 97%."
      ]
    }
  ]
}